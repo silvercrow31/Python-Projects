{
 "cells": [
  {
   "cell_type": "markdown",
   "id": "7c518ab7",
   "metadata": {},
   "source": [
    "<h1 style=\"background-color:brown;color:gold;text-align:center\">Programas simples</h1>"
   ]
  },
  {
   "cell_type": "markdown",
   "id": "67c4a1f6",
   "metadata": {},
   "source": [
    "<h2><b>SALUDO</b></h2>\n",
    "<p>Escriba un programa que pida al usuario que escriba su nombre, y lo salude llamándolo por su nombre.</p>"
   ]
  },
  {
   "cell_type": "code",
   "execution_count": 9,
   "id": "d9cb10e9",
   "metadata": {},
   "outputs": [
    {
     "name": "stdout",
     "output_type": "stream",
     "text": [
      "Hola, jupyter\n"
     ]
    }
   ],
   "source": [
    "nombre=''\n",
    "\n",
    "def saludo():\n",
    "    nombre=input('¿Cuál es tu nombre?\\n')\n",
    "    return 'Hola, '+nombre\n",
    "    \n",
    "print(saludo())\n",
    "\n",
    "#funciona"
   ]
  },
  {
   "cell_type": "markdown",
   "id": "87e1f53e",
   "metadata": {},
   "source": [
    "<h2><strong>CIRCULOS</strong></h2>\n",
    "<p>Escriba un programa que reciba como entrada el radio de un círculo y entregue como salida su perímetro y su área.</p>"
   ]
  },
  {
   "cell_type": "code",
   "execution_count": null,
   "id": "d812e5ca",
   "metadata": {},
   "outputs": [
    {
     "name": "stdout",
     "output_type": "stream",
     "text": [
      "perimetro = 100.48\n",
      "area = 803.84\n"
     ]
    }
   ],
   "source": [
    "pi=3.14\n",
    "\n",
    "def circulos():\n",
    "    r=eval(input('Ingrese el radio del circulo:\\n'))\n",
    "    print('perimetro = '+str(perimetro(pi,r)))\n",
    "    print('area = '+str(area(r)))\n",
    "\n",
    "def perimetro(a,b):\n",
    "    return 2*a*b\n",
    "\n",
    "def area(a):\n",
    "    return pi*a**2\n",
    "\n",
    "circulos()\n",
    "\n",
    "#funciona"
   ]
  },
  {
   "cell_type": "markdown",
   "id": "7389b553",
   "metadata": {},
   "source": [
    "<html style=\"color:white;background-color: black;\">\n",
    "<h2><b> PROMEDIO </b></h2>\n",
    "    <div style=\"box-sizing:border-box;width:48%;display:inline-block\">\n",
    "        <p style=\"display:inline;max-width:48%;text-align: left;\">\n",
    "        Escriba un programa que calcule el promedio de 4 notas ingresadas por el usuario:\n",
    "        </p>\n",
    "    </div>\n",
    "    <div style=\"display:inline-block;box-sizing: border-box;width:48%;text-align: center;\">\n",
    "        <p style=\"display: inline-block;background-color:brown;color:white;border:5px outset white;max-width:20ch;padding:15px;text-align:center\">\n",
    "            Primera nota: <b>55</b><br>\n",
    "            Segunda nota: <b>71</b><br>\n",
    "            Tercera nota: <b>46</b><br>\n",
    "            Cuarta nota: <b>87</b><br><br>\n",
    "            El promedio es: <b>64.75</b>\n",
    "        </p>\n",
    "    </div>\n",
    "</html>"
   ]
  },
  {
   "cell_type": "code",
   "execution_count": null,
   "id": "22d70962",
   "metadata": {},
   "outputs": [],
   "source": []
  }
 ],
 "metadata": {
  "kernelspec": {
   "display_name": ".venv",
   "language": "python",
   "name": "python3"
  },
  "language_info": {
   "codemirror_mode": {
    "name": "ipython",
    "version": 3
   },
   "file_extension": ".py",
   "mimetype": "text/x-python",
   "name": "python",
   "nbconvert_exporter": "python",
   "pygments_lexer": "ipython3",
   "version": "3.10.6"
  }
 },
 "nbformat": 4,
 "nbformat_minor": 5
}
