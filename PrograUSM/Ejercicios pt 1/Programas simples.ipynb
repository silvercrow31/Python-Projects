{
 "cells": [
  {
   "cell_type": "markdown",
   "id": "7c518ab7",
   "metadata": {},
   "source": [
    "<h1 style=\"background-color:brown;color:gold;text-align:center\">Programas simples</h1>"
   ]
  },
  {
   "cell_type": "markdown",
   "id": "67c4a1f6",
   "metadata": {},
   "source": [
    "<h2><b>SALUDO</b></h2>\n",
    "<p>Escriba un programa que pida al usuario que escriba su nombre, y lo salude llamándolo por su nombre.</p>"
   ]
  },
  {
   "cell_type": "code",
   "execution_count": null,
   "id": "d9cb10e9",
   "metadata": {},
   "outputs": [
    {
     "name": "stdout",
     "output_type": "stream",
     "text": [
      "Hola, Jupyter\n"
     ]
    }
   ],
   "source": [
    "def saludo():\n",
    "    nombre=input('¿Cuál es tu nombre? \\n')\n",
    "    return nombre\n",
    "    \n",
    "print(f\"Hola, {saludo()}\")\n",
    "\n",
    "#funciona"
   ]
  },
  {
   "cell_type": "markdown",
   "id": "87e1f53e",
   "metadata": {},
   "source": [
    "<h2><strong>CIRCULOS</strong></h2>\n",
    "<p>Escriba un programa que reciba como entrada el radio de un círculo y entregue como salida su perímetro y su área.</p>"
   ]
  },
  {
   "cell_type": "code",
   "execution_count": 48,
   "id": "d812e5ca",
   "metadata": {},
   "outputs": [
    {
     "name": "stdout",
     "output_type": "stream",
     "text": [
      "perimetro: 31.4\n",
      "área: 78.5\n"
     ]
    }
   ],
   "source": [
    "import math\n",
    "\n",
    "def circulos():\n",
    "    #crea variable radio, el usuario asigna el valor\n",
    "    radio=float(input('Ingrese el radio del circulo: \\n'))\n",
    "    #crear variables de perimetro y area, aplicando formulas respectivas, usando math.pi y el radio asignado\n",
    "    perimetro = 2 * math.pi * radio\n",
    "    area = math.pi * radio ** 2\n",
    "    #retorna una tupla que contiene (perimetro, area)\n",
    "    return perimetro, area\n",
    "#se crean variables y se imprime el resultado con formato 1 decimal\n",
    "perimetro, area = circulos()\n",
    "print(f\"perimetro: {perimetro:.1f}\")\n",
    "print(f\"área: {area:.1f}\")\n",
    "\n",
    "#funciona"
   ]
  },
  {
   "cell_type": "markdown",
   "id": "7389b553",
   "metadata": {},
   "source": [
    "<html style=\"color:white;background-color: black;\">\n",
    "<h2><b> PROMEDIO </b></h2>\n",
    "    <div style=\"box-sizing:border-box;width:48%;display:inline-block\">\n",
    "        <p style=\"display:inline;max-width:48%;text-align: left;\">\n",
    "        Escriba un programa que calcule el promedio de 4 notas ingresadas por el usuario:\n",
    "        </p>\n",
    "    </div>\n",
    "    <div style=\"display:inline-block;box-sizing: border-box;width:48%;text-align: center;\">\n",
    "        <p style=\"display: inline-block;background-color:brown;color:white;border:5px outset white;max-width:20ch;padding:15px;text-align:center\">\n",
    "            Primera nota: <b>55</b><br>\n",
    "            Segunda nota: <b>71</b><br>\n",
    "            Tercera nota: <b>46</b><br>\n",
    "            Cuarta nota: <b>87</b><br><br>\n",
    "            El promedio es: <b>64.75</b>\n",
    "        </p>\n",
    "    </div>\n",
    "</html>"
   ]
  },
  {
   "cell_type": "code",
   "execution_count": null,
   "id": "22d70962",
   "metadata": {},
   "outputs": [
    {
     "name": "stdout",
     "output_type": "stream",
     "text": [
      "El promedio es: 64.75\n"
     ]
    }
   ],
   "source": [
    "def promedio():\n",
    "    #se crean variables para cada nota. el usuario les asigna un valor y se almacena como numero entero\n",
    "    n1=int(input(\"Ingrese nota 1: \\n\"))\n",
    "    n2=int(input(\"Ingrese nota 2: \\n\"))\n",
    "    n3=int(input(\"Ingrese nota 3: \\n\"))\n",
    "    n4=int(input(\"Ingrese nota 4: \\n\"))\n",
    "    #se crea una nueva variable \"promedio\" la cual corresponde al cálculo del promedio\n",
    "    promedio=(n1 + n2 + n3 + n4 ) / 4\n",
    "    #se retorna el promedio como float\n",
    "    return (promedio)\n",
    "#se imprime el resultado con 2 decimales\n",
    "print(f\"El promedio es: {promedio():.2f}\")\n",
    "\n",
    "#funciona"
   ]
  },
  {
   "cell_type": "markdown",
   "id": "8feb44df",
   "metadata": {},
   "source": [
    "<h2><b>CONVERSION DE UNIDADES DE LONGITUD</b></h2>\n",
    "<p>Escriba un programa que convierta de centímetros a pulgadas. Una pulgada es igual a 2.54 centímetros.</p>\n",
    "<div style=\"color:black;background-color:white;border:2px solid gray;margin:2em;max-width:20ch;padding:5px\">\n",
    "<p>Ingrese longitud: 45 <br>\n",
    "45 cm = 17.7165 in</p></div>\n",
    "\n",
    "<div style=\"color:black;background-color:white;border:2px solid gray;margin:2em;max-width:20ch;padding:5px\">\n",
    "<p>Ingrese longitud: 13 <br>\n",
    "13 cm = 5.1181 in</p></div>"
   ]
  },
  {
   "cell_type": "code",
   "execution_count": null,
   "id": "9c1f539a",
   "metadata": {},
   "outputs": [
    {
     "name": "stdout",
     "output_type": "stream",
     "text": [
      "5.1181 in\n"
     ]
    }
   ],
   "source": [
    "def conversion():\n",
    "    #el usuario ingresa el valor de la variable longitud\n",
    "    longitud=float(input(\"Ingrese longitud en cm: \\n\"))\n",
    "    #se crea una nueva variable \"en pulgadas\" que divide el valor de \"longitud\" por 2.54\n",
    "    en_pulgadas = longitud / 2.54\n",
    "    #se retorna la variable\n",
    "    return en_pulgadas\n",
    "#se imprime el resultado de la conversión con 4 decimales y con la unidad \"in\"\n",
    "print(f\"{conversion():.4f} in\")\n",
    "#funciona"
   ]
  },
  {
   "cell_type": "markdown",
   "id": "31eabd9d",
   "metadata": {},
   "source": [
    "<h1><b>NUMERO INVERTIDO</b></h1>\n",
    "<p>Escriba un programa que pida al usuario un entero de tres dígitos, y entregue el número con los dígitos en orden inverso:</p>\n",
    "<div style=\"display:flex; background-color:white;border:2px gray;color:black;width:fit-content\"><p style=\"margin:2ch\">Ingrese número: <b>345</b> <br> 543</p></div>\n",
    "<br>\n",
    "<div style=\"display:flex; background-color:white;border:2px gray;color:black;width:fit-content\"><p style=\"margin:2ch\">Ingrese número: <b>241</b> <br> 142</p></div>\n"
   ]
  },
  {
   "cell_type": "code",
   "execution_count": null,
   "id": "e9661d74",
   "metadata": {},
   "outputs": [
    {
     "name": "stdout",
     "output_type": "stream",
     "text": [
      "786\n"
     ]
    }
   ],
   "source": [
    "def numero_invertido():\n",
    "    #usuario ingresa el numero como un string, el cual es iterable.\n",
    "    numero=(input(\"Ingrese número: \\n\"))\n",
    "    #el string del número se transforma en una lista, la cual se invierte\n",
    "    lista=list(numero)\n",
    "    list.reverse(lista)\n",
    "    #se crea una nueva variable que contiene un string vacio. \n",
    "    invertido=\"\"\n",
    "    #este codigo evalua los elementos de la lista, la cual contiene los dígitos como string\n",
    "    #en orden invertido.\n",
    "    #cada vez que evalua un elemento, lo concatena a la variable invertido\n",
    "    for a in lista:\n",
    "        invertido=invertido+a\n",
    "    #se retorna la variable invertido, la cual contiene un string con el numero invertido\n",
    "    return invertido\n",
    "\n",
    "print(numero_invertido())\n",
    "#funciona"
   ]
  },
  {
   "cell_type": "markdown",
   "id": "9b480eb2",
   "metadata": {},
   "source": [
    "<h1><b>PITAGORAS</b></h1>\n",
    "<p>\n",
    "Escriba un programa que reciba como entrada las longitudes de los dos catetos a y b de un triángulo rectángulo, y que entregue como salida el largo de la hipotenusa c del triangulo, dado por el teorema de Pitágoras: c2=a2+b2.\n",
    "</p>\n",
    "\n",
    "<div style=\"display:flex; background-color:white;border:2px gray;color:black;width:fit-content\"><p style=\"margin:2ch\">Ingrese cateto a: <b>7</b></p></div>\n",
    "<br>\n",
    "<div style=\"display:flex; background-color:white;border:2px gray;color:black;width:fit-content\"><p style=\"margin:2ch\">Ingrese cateto b: <b>5</b></p></div>\n",
    "<br>\n",
    "<div style=\"display:flex; background-color:white;border:2px gray;color:black;width:fit-content\"><p style=\"margin:2ch\"><b>La hipotenusa es 8.6023252670426267</b></p></div>\n"
   ]
  },
  {
   "cell_type": "code",
   "execution_count": null,
   "id": "06191619",
   "metadata": {},
   "outputs": [
    {
     "name": "stdout",
     "output_type": "stream",
     "text": [
      "La hipotenusa es 8.60\n"
     ]
    }
   ],
   "source": [
    "def hipotenusa():\n",
    "    #establece valores de cada cateto (variables)\n",
    "    cateto_a=float(input(\"Ingrese cateto a: \\n\"))\n",
    "    cateto_b=float(input(\"Ingrese cateto b: \\n\"))\n",
    "    #fórmula de la hipotenusa\n",
    "    hipotenusa=(cateto_a ** 2 + cateto_b ** 2) ** 0.5\n",
    "    #retorno con 2 decimales\n",
    "    return f\"La hipotenusa es {hipotenusa:.2f}\"\n",
    "print (hipotenusa())\n",
    "#funciona\n"
   ]
  },
  {
   "cell_type": "markdown",
   "id": "47df5733",
   "metadata": {},
   "source": [
    "<h1 style=\"text-transform:uppercase\"><b>Hora futura</b></h1>\n",
    "<div style=\"box-sizing:border-box;width:100ch;height:auto\">\n",
    "    <p>\n",
    "    Escriba un programa que pregunte al usuario la hora actual t del reloj y un número entero de horas h, que indique qué hora marcará el reloj dentro de h horas:\n",
    "    </p>\n",
    "    <div style=\"box-sizing:border-box;display:flex;flex-direction:column;flex:0 0 auto\">\n",
    "        <div style=\"box-sizing:border-box;background-color:white;color:black;border:1px solid black;width:fit-content;flex:1 1 auto;font-family:'Consolas', 'Deja Vu Sans Mono', 'Bitstream Vera Sans Mono', monospace;margin:2ch\">\n",
    "            <p style=\"margin: 1ch\">\n",
    "                Hora actual: <b>3</b><br>\n",
    "                Cantidad de horas: <b>5</b><br>\n",
    "                En 5 horas, el reloj marcara las 8\n",
    "            </p>\n",
    "        </div>\n",
    "        <div style=\"box-sizing:border-box;background-color:white;color:black;border:1px solid black;width:fit-content;flex:1 1 auto;font-family:'Consolas', 'Deja Vu Sans Mono', 'Bitstream Vera Sans Mono', monospace;margin:2ch\">\n",
    "            <p style=\"margin: 1ch\">\n",
    "                Hora actual: <b>11</b><br>\n",
    "                Cantidad de horas: <b>43</b><br>\n",
    "                En 43 horas, el reloj marcara las 6\n",
    "            </p>\n",
    "        </div>\n",
    "    </div>\n",
    "</div>"
   ]
  },
  {
   "cell_type": "code",
   "execution_count": null,
   "id": "40948e30",
   "metadata": {},
   "outputs": [
    {
     "name": "stdout",
     "output_type": "stream",
     "text": [
      "En 43 horas, el reloj marcará las 6\n"
     ]
    }
   ],
   "source": [
    "def hora_futura():\n",
    "    hora_actual=int(input(\"Hora actual: \\n\"))\n",
    "    cantidad_horas=int(input(\"Cantidad de horas: \\n\"))\n",
    "    if hora_actual+cantidad_horas<=12:\n",
    "        return f\"En {cantidad_horas} horas, el reloj marcará las {hora_actual+cantidad_horas}\"\n",
    "    elif hora_actual+cantidad_horas>12:\n",
    "        return f\"En {cantidad_horas} horas, el reloj marcará las {(cantidad_horas+hora_actual)%12}\"\n",
    "    else:\n",
    "        return \"error\"\n",
    "print(hora_futura())\n",
    "#funciona\n"
   ]
  },
  {
   "cell_type": "markdown",
   "id": "5ddb8da6",
   "metadata": {},
   "source": [
    "<h1 style=\"text-transform:uppercase\"><b>parte decimal</b></h1>\n",
    "<div style=\"box-sizing:border-box;width:100ch;height:auto\">\n",
    "    <p>\n",
    "    Escriba un programa que entregue la parte decimal de un número real ingresado por el usuario.\n",
    "    </p>\n",
    "    <div style=\"box-sizing:border-box;display:flex;flex-direction:column;flex:0 0 auto\">\n",
    "        <div style=\"box-sizing:border-box;background-color:white;color:black;border:1px solid black;width:fit-content;flex:1 1 auto;font-family:'Consolas', 'Deja Vu Sans Mono', 'Bitstream Vera Sans Mono', monospace;margin:2ch\">\n",
    "            <p style=\"margin: 1ch\">\n",
    "                Ingrese un numero: <b>4.5</b><br>\n",
    "                0.5\n",
    "            </p>\n",
    "        </div>\n",
    "        <div style=\"box-sizing:border-box;background-color:white;color:black;border:1px solid black;width:fit-content;flex:1 1 auto;font-family:'Consolas', 'Deja Vu Sans Mono', 'Bitstream Vera Sans Mono', monospace;margin:2ch\">\n",
    "            <p style=\"margin: 1ch\">\n",
    "                Ingrese un numero: <b>-1.19</b><br>\n",
    "                0.19\n",
    "            </p>\n",
    "        </div>\n",
    "    </div>\n",
    "</div>"
   ]
  },
  {
   "cell_type": "code",
   "execution_count": null,
   "id": "d760c15f",
   "metadata": {},
   "outputs": [
    {
     "name": "stdout",
     "output_type": "stream",
     "text": [
      "0.19\n"
     ]
    }
   ],
   "source": [
    "def parte_decimal():\n",
    "    numero=float(input(\"Ingrese un número: \\n\"))\n",
    "    if numero==0:\n",
    "        return 0\n",
    "    if numero<0:\n",
    "        numero=numero*-1\n",
    "    return numero%1\n",
    "print(f\"{parte_decimal():.2f}\")\n",
    "#funciona"
   ]
  },
  {
   "cell_type": "markdown",
   "id": "c9ba0a1a",
   "metadata": {},
   "source": [
    "<body>\n",
    "    <h1 style=\"text-transform:uppercase\"><b>Qué nota necesito</b></h1>\n",
    "    <div style=\"box-sizing:border-box;width:100ch;height:auto\">\n",
    "        <p>\n",
    "        Un alumno desea saber que nota necesita en el tercer certamen para aprobar un ramo.<br>El promedio del ramo se calcula con la siguiente fórmula:\n",
    "        </p>    \n",
    "    </div>\n",
    "</body>"
   ]
  },
  {
   "cell_type": "markdown",
   "id": "03e85cd2",
   "metadata": {},
   "source": [
    "$$\n",
    "N_C = \\frac{(C1+C2+C3)}{3} \n",
    "$$\n",
    "$$\n",
    "N_F = N_C \\times 0.7+N_L \\times 0.3\n",
    "$$"
   ]
  },
  {
   "cell_type": "markdown",
   "id": "34b55dad",
   "metadata": {},
   "source": [
    "<body>\n",
    "    <div style=\"box-sizing:border-box;width:100ch;height:auto\">\n",
    "        <p>\n",
    "        Donde Nc es el promedio de certámenes, NL el promedio de laboratorio y NF la nota final.<br><br>Escriba un programa que pregunte al usuario las notas de los dos primeros certámenes y la nota de laboratorio, y muestre la nota que necesita el alumno para <b>aprobar el ramo con nota final 60</b> (nota máxima=100).\n",
    "        </p>\n",
    "        <div style=\"box-sizing:border-box;display:flex;flex-direction:column;flex:0 0 auto\">\n",
    "            <div style=\"box-sizing:border-box;background-color:white;color:black;border:1px solid black;width:fit-content;flex:1 1 auto;font-family:'Consolas', 'Deja Vu Sans Mono', 'Bitstream Vera Sans Mono', monospace;margin:2ch\">\n",
    "                <p style=\"margin: 1ch\">\n",
    "                    Ingrese nota certamen 1: <b>45</b> <br>\n",
    "                    Ingrese nota certamen 2: <b>55</b> <br>\n",
    "                    Ingrese nota laboratorio: <b>65</b> <br>\n",
    "                    Necesita nota 72 en el certamen 3\n",
    "                </p>\n",
    "            </div>\n",
    "        </div> \n",
    "    </div>\n",
    "</body>"
   ]
  },
  {
   "cell_type": "code",
   "execution_count": null,
   "id": "218bdcfb",
   "metadata": {},
   "outputs": [
    {
     "name": "stdout",
     "output_type": "stream",
     "text": [
      "Necesita nota 74 en el certamen 3\n"
     ]
    }
   ],
   "source": [
    "def que_nota_necesito():\n",
    "    #variables\n",
    "    c1=float(input(\"Ingrese nota certamen 1: \\n\"))\n",
    "    c2=float(input(\"Ingrese nota certamen 2: \\n\"))\n",
    "    lab=float(input(\"Ingrese nota laboratorio: \\n\"))\n",
    "    #cálculo de la nota\n",
    "    c3 = (3 * (60-lab * 0.3) / 0.7) - c1 - c2\n",
    "\n",
    "    return c3\n",
    "\n",
    "print(f\"Necesita nota {que_nota_necesito():.0f} en el certamen 3\")\n",
    "#funciona.\n",
    "# Nota: el resultado obtenido puede diferir del ejemplo provisto porque dicho ejemplo\n",
    "# probablemente fue hecho en Python 2.7, donde la división entre enteros trunca el resultado,\n",
    "# lo que lleva a una nota final incorrecta si no se usan decimales (float). En Python 3,\n",
    "# la división es más precisa y refleja mejor el valor real necesario para aprobar.\n"
   ]
  }
 ],
 "metadata": {
  "kernelspec": {
   "display_name": ".venv",
   "language": "python",
   "name": "python3"
  },
  "language_info": {
   "codemirror_mode": {
    "name": "ipython",
    "version": 3
   },
   "file_extension": ".py",
   "mimetype": "text/x-python",
   "name": "python",
   "nbconvert_exporter": "python",
   "pygments_lexer": "ipython3",
   "version": "3.10.6"
  }
 },
 "nbformat": 4,
 "nbformat_minor": 5
}
