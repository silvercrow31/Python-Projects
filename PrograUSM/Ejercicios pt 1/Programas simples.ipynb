{
 "cells": [
  {
   "cell_type": "markdown",
   "id": "7c518ab7",
   "metadata": {},
   "source": [
    "<h1 style=\"background-color:brown;color:gold;text-align:center\">Programas simples</h1>"
   ]
  },
  {
   "cell_type": "markdown",
   "id": "67c4a1f6",
   "metadata": {},
   "source": [
    "<h2><b>SALUDO</b></h2>\n",
    "<p>Escriba un programa que pida al usuario que escriba su nombre, y lo salude llamándolo por su nombre.</p>"
   ]
  },
  {
   "cell_type": "code",
   "execution_count": 9,
   "id": "d9cb10e9",
   "metadata": {},
   "outputs": [
    {
     "name": "stdout",
     "output_type": "stream",
     "text": [
      "Hola, jupyter\n"
     ]
    }
   ],
   "source": [
    "nombre=''\n",
    "\n",
    "def saludo():\n",
    "    nombre=input('¿Cuál es tu nombre?\\n')\n",
    "    return 'Hola, '+nombre\n",
    "    \n",
    "print(saludo())\n",
    "\n",
    "#funciona"
   ]
  },
  {
   "cell_type": "markdown",
   "id": "87e1f53e",
   "metadata": {},
   "source": [
    "<h2><strong>CIRCULOS</strong></h2>\n",
    "<p>Escriba un programa que reciba como entrada el radio de un círculo y entregue como salida su perímetro y su área.</p>"
   ]
  },
  {
   "cell_type": "code",
   "execution_count": null,
   "id": "d812e5ca",
   "metadata": {},
   "outputs": [
    {
     "name": "stdout",
     "output_type": "stream",
     "text": [
      "perimetro = 100.48\n",
      "area = 803.84\n"
     ]
    }
   ],
   "source": [
    "pi=3.14\n",
    "\n",
    "def circulos():\n",
    "    r=eval(input('Ingrese el radio del circulo:\\n'))\n",
    "    print('perimetro = '+str(perimetro(pi,r)))\n",
    "    print('area = '+str(area(r)))\n",
    "\n",
    "def perimetro(a,b):\n",
    "    return 2*a*b\n",
    "\n",
    "def area(a):\n",
    "    return pi*a**2\n",
    "\n",
    "circulos()\n",
    "\n",
    "#funciona"
   ]
  },
  {
   "cell_type": "markdown",
   "id": "7389b553",
   "metadata": {},
   "source": [
    "<html style=\"color:white;background-color: black;\">\n",
    "<h2><b> PROMEDIO </b></h2>\n",
    "    <div style=\"box-sizing:border-box;width:48%;display:inline-block\">\n",
    "        <p style=\"display:inline;max-width:48%;text-align: left;\">\n",
    "        Escriba un programa que calcule el promedio de 4 notas ingresadas por el usuario:\n",
    "        </p>\n",
    "    </div>\n",
    "    <div style=\"display:inline-block;box-sizing: border-box;width:48%;text-align: center;\">\n",
    "        <p style=\"display: inline-block;background-color:brown;color:white;border:5px outset white;max-width:20ch;padding:15px;text-align:center\">\n",
    "            Primera nota: <b>55</b><br>\n",
    "            Segunda nota: <b>71</b><br>\n",
    "            Tercera nota: <b>46</b><br>\n",
    "            Cuarta nota: <b>87</b><br><br>\n",
    "            El promedio es: <b>64.75</b>\n",
    "        </p>\n",
    "    </div>\n",
    "</html>"
   ]
  },
  {
   "cell_type": "code",
   "execution_count": null,
   "id": "22d70962",
   "metadata": {},
   "outputs": [
    {
     "name": "stdout",
     "output_type": "stream",
     "text": [
      "El promedio es: 64.75\n"
     ]
    }
   ],
   "source": [
    "def promedio():\n",
    "    n1=eval(input(\"Ingrese nota 1: \\n\"))\n",
    "    n2=eval(input(\"Ingrese nota 2: \\n\"))\n",
    "    n3=eval(input(\"Ingrese nota 3: \\n\"))\n",
    "    n4=eval(input(\"Ingrese nota 4: \\n\"))\n",
    "    return (n1+n2+n3+n4)/4\n",
    "\n",
    "print(\"El promedio es: \"+str(promedio()))\n",
    "\n",
    "#funciona"
   ]
  },
  {
   "cell_type": "markdown",
   "id": "8feb44df",
   "metadata": {},
   "source": [
    "<h2><b>CONVERSION DE UNIDADES DE LONGITUD</b></h2>\n",
    "<p>Escriba un programa que convierta de centímetros a pulgadas. Una pulgada es igual a 2.54 centímetros.</p>\n",
    "<div style=\"color:black;background-color:white;border:2px solid gray;margin:2em;max-width:20ch;padding:5px\">\n",
    "<p>Ingrese longitud: 45 <br>\n",
    "45 cm = 17.7165 in</p></div>\n",
    "\n",
    "<div style=\"color:black;background-color:white;border:2px solid gray;margin:2em;max-width:20ch;padding:5px\">\n",
    "<p>Ingrese longitud: 13 <br>\n",
    "13 cm = 5.1181 in</p></div>"
   ]
  },
  {
   "cell_type": "code",
   "execution_count": null,
   "id": "9c1f539a",
   "metadata": {},
   "outputs": [
    {
     "name": "stdout",
     "output_type": "stream",
     "text": [
      "17.716535433070867 in\n"
     ]
    }
   ],
   "source": [
    "def conversion():\n",
    "    l=eval(input(\"Ingrese longitud en cm: \\n\"))\n",
    "    return l/2.54\n",
    "\n",
    "print(str(conversion())+\" in\")\n",
    "\n",
    "#funciona"
   ]
  },
  {
   "cell_type": "markdown",
   "id": "31eabd9d",
   "metadata": {},
   "source": [
    "<h1><b>NUMERO INVERTIDO</b></h1>\n",
    "<p>Escriba un programa que pida al usuario un entero de tres dígitos, y entregue el número con los dígitos en orden inverso:</p>\n",
    "<div style=\"display:flex; background-color:white;border:2px gray;color:black;width:fit-content\"><p style=\"margin:2ch\">Ingrese número: <b>345</b> <br> 543</p></div>\n",
    "<br>\n",
    "<div style=\"display:flex; background-color:white;border:2px gray;color:black;width:fit-content\"><p style=\"margin:2ch\">Ingrese número: <b>241</b> <br> 142</p></div>\n"
   ]
  },
  {
   "cell_type": "code",
   "execution_count": 6,
   "id": "e9661d74",
   "metadata": {},
   "outputs": [
    {
     "name": "stdout",
     "output_type": "stream",
     "text": [
      "359\n"
     ]
    }
   ],
   "source": [
    "def numero_invertido():\n",
    "    numero=input(\"Ingrese número: \\n\")\n",
    "    lista=list(numero)\n",
    "    list.reverse(lista)\n",
    "    invertido=\"\"\n",
    "    for a in lista:\n",
    "        invertido=invertido+a\n",
    "    return invertido\n",
    "\n",
    "print(numero_invertido())\n",
    "#funciona"
   ]
  },
  {
   "cell_type": "markdown",
   "id": "9b480eb2",
   "metadata": {},
   "source": [
    "<h1><b>PITAGORAS</b></h1>\n",
    "<p>\n",
    "Escriba un programa que reciba como entrada las longitudes de los dos catetos a y b de un triángulo rectángulo, y que entregue como salida el largo de la hipotenusa c del triangulo, dado por el teorema de Pitágoras: c2=a2+b2.\n",
    "</p>\n",
    "\n",
    "<div style=\"display:flex; background-color:white;border:2px gray;color:black;width:fit-content\"><p style=\"margin:2ch\">Ingrese cateto a: <b>7</b></p></div>\n",
    "<br>\n",
    "<div style=\"display:flex; background-color:white;border:2px gray;color:black;width:fit-content\"><p style=\"margin:2ch\">Ingrese cateto b: <b>5</b></p></div>\n",
    "<br>\n",
    "<div style=\"display:flex; background-color:white;border:2px gray;color:black;width:fit-content\"><p style=\"margin:2ch\"><b>La hipotenusa es 8.6023252670426267</b></p></div>\n"
   ]
  },
  {
   "cell_type": "code",
   "execution_count": 11,
   "id": "06191619",
   "metadata": {},
   "outputs": [
    {
     "name": "stdout",
     "output_type": "stream",
     "text": [
      "La hipotenusa es 8.602325267042627\n"
     ]
    }
   ],
   "source": [
    "def hipotenusa():\n",
    "    cateto_a=eval(input(\"Ingrese cateto a: \\n\"))\n",
    "    cateto_b=eval(input(\"Ingrese cateto b: \\n\"))\n",
    "    hipotenusa=(cateto_a**2+cateto_b**2)**(0.5)\n",
    "    return hipotenusa\n",
    "print (\"La hipotenusa es \"+str(hipotenusa()))\n"
   ]
  },
  {
   "cell_type": "markdown",
   "id": "47df5733",
   "metadata": {},
   "source": [
    "<h1 style=\"text-transform:uppercase\"><b>Hora futura</b></h1>\n",
    "<div style=\"box-sizing:border-box;width:100ch;height:auto\">\n",
    "    <p>\n",
    "    Escriba un programa que pregunte al usuario la hora actual t del reloj y un número entero de horas h, que indique qué hora marcará el reloj dentro de h horas:\n",
    "    </p>\n",
    "    <div style=\"box-sizing:border-box;display:flex;flex-direction:column;flex:0 0 auto\">\n",
    "        <div style=\"box-sizing:border-box;background-color:white;color:black;border:1px solid black;width:fit-content;flex:1 1 auto;font-family:'Consolas', 'Deja Vu Sans Mono', 'Bitstream Vera Sans Mono', monospace;margin:2ch\">\n",
    "            <p style=\"margin: 1ch\">\n",
    "                Hora actual: <b>3</b><br>\n",
    "                Cantidad de horas: <b>5</b><br>\n",
    "                En 5 horas, el reloj marcara las 8\n",
    "            </p>\n",
    "        </div>\n",
    "        <div style=\"box-sizing:border-box;background-color:white;color:black;border:1px solid black;width:fit-content;flex:1 1 auto;font-family:'Consolas', 'Deja Vu Sans Mono', 'Bitstream Vera Sans Mono', monospace;margin:2ch\">\n",
    "            <p style=\"margin: 1ch\">\n",
    "                Hora actual: <b>11</b><br>\n",
    "                Cantidad de horas: <b>43</b><br>\n",
    "                En 43 horas, el reloj marcara las 6\n",
    "            </p>\n",
    "        </div>\n",
    "    </div>\n",
    "</div>"
   ]
  },
  {
   "cell_type": "code",
   "execution_count": 34,
   "id": "40948e30",
   "metadata": {},
   "outputs": [
    {
     "name": "stdout",
     "output_type": "stream",
     "text": [
      "En 43 horas, el reloj marcará las 6\n"
     ]
    }
   ],
   "source": [
    "def hora_futura():\n",
    "    hora_actual=eval(input(\"Hora actual: \\n\"))\n",
    "    cantidad_horas=eval(input(\"Cantidad de horas: \\n\"))\n",
    "    if hora_actual+cantidad_horas<=12:\n",
    "        return \"En \"+str(cantidad_horas)+\" horas, el reloj marcará las \"+str(hora_actual+cantidad_horas)\n",
    "    elif hora_actual+cantidad_horas>12:\n",
    "        return \"En \"+str(cantidad_horas)+\" horas, el reloj marcará las \"+str((cantidad_horas+hora_actual)%12)\n",
    "    else:\n",
    "        return \"error\"\n",
    "print(hora_futura())\n",
    "#funciona\n"
   ]
  },
  {
   "cell_type": "markdown",
   "id": "5ddb8da6",
   "metadata": {},
   "source": [
    "<h1 style=\"text-transform:uppercase\"><b>parte decimal</b></h1>\n",
    "<div style=\"box-sizing:border-box;width:100ch;height:auto\">\n",
    "    <p>\n",
    "    Escriba un programa que entregue la parte decimal de un número real ingresado por el usuario.\n",
    "    </p>\n",
    "    <div style=\"box-sizing:border-box;display:flex;flex-direction:column;flex:0 0 auto\">\n",
    "        <div style=\"box-sizing:border-box;background-color:white;color:black;border:1px solid black;width:fit-content;flex:1 1 auto;font-family:'Consolas', 'Deja Vu Sans Mono', 'Bitstream Vera Sans Mono', monospace;margin:2ch\">\n",
    "            <p style=\"margin: 1ch\">\n",
    "                Ingrese un numero: <b>4.5</b><br>\n",
    "                0.5\n",
    "            </p>\n",
    "        </div>\n",
    "        <div style=\"box-sizing:border-box;background-color:white;color:black;border:1px solid black;width:fit-content;flex:1 1 auto;font-family:'Consolas', 'Deja Vu Sans Mono', 'Bitstream Vera Sans Mono', monospace;margin:2ch\">\n",
    "            <p style=\"margin: 1ch\">\n",
    "                Ingrese un numero: <b>-1.19</b><br>\n",
    "                0.19\n",
    "            </p>\n",
    "        </div>\n",
    "    </div>\n",
    "</div>"
   ]
  },
  {
   "cell_type": "code",
   "execution_count": null,
   "id": "d760c15f",
   "metadata": {},
   "outputs": [],
   "source": [
    "def parte_decimal():\n",
    "    WIP=True"
   ]
  },
  {
   "cell_type": "markdown",
   "id": "c9ba0a1a",
   "metadata": {},
   "source": [
    "<h1 style=\"text-transform:uppercase\"><b>BOILERPLATE</b></h1>\n",
    "<div style=\"box-sizing:border-box;width:100ch;height:auto\">\n",
    "    <p>\n",
    "    DESCRIPCION\n",
    "    </p>\n",
    "    <div style=\"box-sizing:border-box;display:flex;flex-direction:column;flex:0 0 auto\">\n",
    "        <div style=\"box-sizing:border-box;background-color:white;color:black;border:1px solid black;width:fit-content;flex:1 1 auto;font-family:'Consolas', 'Deja Vu Sans Mono', 'Bitstream Vera Sans Mono', monospace;margin:2ch\">\n",
    "            <p style=\"margin: 1ch\">\n",
    "                Cuadro 1\n",
    "            </p>\n",
    "        </div>\n",
    "        <div style=\"box-sizing:border-box;background-color:white;color:black;border:1px solid black;width:fit-content;flex:1 1 auto;font-family:'Consolas', 'Deja Vu Sans Mono', 'Bitstream Vera Sans Mono', monospace;margin:2ch\">\n",
    "            <p style=\"margin: 1ch\">\n",
    "                Cuadro 2\n",
    "            </p>\n",
    "        </div>\n",
    "    </div>\n",
    "</div>"
   ]
  }
 ],
 "metadata": {
  "kernelspec": {
   "display_name": ".venv",
   "language": "python",
   "name": "python3"
  },
  "language_info": {
   "codemirror_mode": {
    "name": "ipython",
    "version": 3
   },
   "file_extension": ".py",
   "mimetype": "text/x-python",
   "name": "python",
   "nbconvert_exporter": "python",
   "pygments_lexer": "ipython3",
   "version": "3.10.6"
  }
 },
 "nbformat": 4,
 "nbformat_minor": 5
}
