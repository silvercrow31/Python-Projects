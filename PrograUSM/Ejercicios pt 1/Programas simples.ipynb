{
 "cells": [
  {
   "cell_type": "markdown",
   "id": "7c518ab7",
   "metadata": {},
   "source": [
    "<h1 style=\"background-color:brown;color:gold;text-align:center\">Programas simples</h1>"
   ]
  },
  {
   "cell_type": "markdown",
   "id": "67c4a1f6",
   "metadata": {},
   "source": [
    "<h2><b>SALUDO</b></h2>\n",
    "<p>Escriba un programa que pida al usuario que escriba su nombre, y lo salude llamándolo por su nombre.</p>"
   ]
  },
  {
   "cell_type": "code",
   "execution_count": 9,
   "id": "d9cb10e9",
   "metadata": {},
   "outputs": [
    {
     "name": "stdout",
     "output_type": "stream",
     "text": [
      "Hola, jupyter\n"
     ]
    }
   ],
   "source": [
    "nombre=''\n",
    "\n",
    "def saludo():\n",
    "    nombre=input('¿Cuál es tu nombre?\\n')\n",
    "    return 'Hola, '+nombre\n",
    "    \n",
    "print(saludo())\n",
    "\n",
    "#funciona"
   ]
  },
  {
   "cell_type": "markdown",
   "id": "87e1f53e",
   "metadata": {},
   "source": [
    "<h2><strong>CIRCULOS</strong></h2>\n",
    "<p>Escriba un programa que reciba como entrada el radio de un círculo y entregue como salida su perímetro y su área.</p>"
   ]
  },
  {
   "cell_type": "code",
   "execution_count": null,
   "id": "d812e5ca",
   "metadata": {},
   "outputs": [
    {
     "name": "stdout",
     "output_type": "stream",
     "text": [
      "perimetro = 100.48\n",
      "area = 803.84\n"
     ]
    }
   ],
   "source": [
    "pi=3.14\n",
    "\n",
    "def circulos():\n",
    "    r=eval(input('Ingrese el radio del circulo:\\n'))\n",
    "    print('perimetro = '+str(perimetro(pi,r)))\n",
    "    print('area = '+str(area(r)))\n",
    "\n",
    "def perimetro(a,b):\n",
    "    return 2*a*b\n",
    "\n",
    "def area(a):\n",
    "    return pi*a**2\n",
    "\n",
    "circulos()\n",
    "\n",
    "#funciona"
   ]
  },
  {
   "cell_type": "markdown",
   "id": "7389b553",
   "metadata": {},
   "source": [
    "<h2> PROMEDIO </h2>\n",
    "<p>Escriba un programa que calcule el promedio de 4 notas ingresadas por el usuario:</p>\n",
    "<div style=\"border:solid white;max-width:20ch;padding:5px\"><p>Primera nota: 55\n",
    "Segunda nota: 71\n",
    "Tercera nota: 46\n",
    "Cuarta nota: 87\n",
    "El promedio es: 64.75\n",
    "</div>"
   ]
  },
  {
   "cell_type": "code",
   "execution_count": null,
   "id": "22d70962",
   "metadata": {},
   "outputs": [],
   "source": []
  }
 ],
 "metadata": {
  "kernelspec": {
   "display_name": ".venv",
   "language": "python",
   "name": "python3"
  },
  "language_info": {
   "codemirror_mode": {
    "name": "ipython",
    "version": 3
   },
   "file_extension": ".py",
   "mimetype": "text/x-python",
   "name": "python",
   "nbconvert_exporter": "python",
   "pygments_lexer": "ipython3",
   "version": "3.10.6"
  }
 },
 "nbformat": 4,
 "nbformat_minor": 5
}
